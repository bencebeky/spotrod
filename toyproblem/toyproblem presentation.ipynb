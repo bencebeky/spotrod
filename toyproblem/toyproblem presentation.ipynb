{
 "metadata": {
  "name": "toyproblem presentation"
 },
 "nbformat": 3,
 "nbformat_minor": 0,
 "worksheets": [
  {
   "cells": [
    {
     "cell_type": "markdown",
     "metadata": {},
     "source": [
      "# Bence B\u00e9ky: Using to the numpy C API "
     ]
    },
    {
     "cell_type": "markdown",
     "metadata": {},
     "source": [
      "## Problem"
     ]
    },
    {
     "cell_type": "code",
     "collapsed": false,
     "input": [
      "from IPython.display import Image;\n",
      "Image(filename=\"ipython.png\")"
     ],
     "language": "python",
     "metadata": {},
     "outputs": []
    },
    {
     "cell_type": "code",
     "collapsed": false,
     "input": [
      "r = numpy.linspace(0.0, 1.0, 1000);\n",
      "p = 0.1;\n",
      "z = 0.5;"
     ],
     "language": "python",
     "metadata": {},
     "outputs": []
    },
    {
     "cell_type": "markdown",
     "metadata": {},
     "source": [
      "## Python implementations"
     ]
    },
    {
     "cell_type": "code",
     "collapsed": false,
     "input": [
      "def circleangleloop(r, p, z):\n",
      "  # If the circle arc of radius r is disjoint from the circular disk \n",
      "  # of radius p, then the angle is zero.\n",
      "  answer = numpy.zeros_like(r);\n",
      "  for i in range(r.shape[0]):\n",
      "    # If the planet entirely covers the circle, the half central angle is pi.\n",
      "    if (r[i] < p-z):\n",
      "      answer[i] = numpy.pi;\n",
      "    # If the triangle inequalities hold between z, r, and p, \n",
      "    # then we have partial overlap.\n",
      "    # If alpha is the half central angle in the triangle with sides r, p, and z,\n",
      "    # with p opposite the angle, then p^2 = r^2 + z^2 - 2 rz cos(alpha)\n",
      "    elif (r[i] < p+z) & (z < p+r[i]):\n",
      "      answer[i] = numpy.arccos((r[i]*r[i]+z*z-p*p)/(2*z*r[i]));\n",
      "  return answer;\n",
      "\n",
      "pyplot.plot(r, circleangleloop(r, p, z), \"r-\");"
     ],
     "language": "python",
     "metadata": {},
     "outputs": []
    },
    {
     "cell_type": "code",
     "collapsed": false,
     "input": [
      "def circleanglemask(r, p, z):\n",
      "  inside = (r < p-z);\n",
      "  intersect = (r < p+z) & (z < r+p) & numpy.logical_not(inside);\n",
      "  answer = numpy.zeros_like(r);\n",
      "  answer[inside] = numpy.pi;\n",
      "  answer[intersect] = numpy.arccos((numpy.power(r[intersect],2)+z*z-p*p)/(2*z*r[intersect]));\n",
      "  return answer;\n",
      "\n",
      "pyplot.plot(r, circleanglemask(r, p, z), \"r-\");"
     ],
     "language": "python",
     "metadata": {},
     "outputs": []
    },
    {
     "cell_type": "code",
     "collapsed": false,
     "input": [
      "def circleanglesorted(r, p, z):\n",
      "  answer = numpy.empty_like(r);\n",
      "  n = len(r);\n",
      "  if (p > z):\n",
      "    # Planet covers center of star.\n",
      "    a, b = numpy.searchsorted(r, [p-z, p+z], side=\"right\");\n",
      "    answer[:a] = numpy.pi;\n",
      "    answer[a:b] = numpy.arccos((r[a:b]*r[a:b]+z*z-p*p)/(2*z*r[a:b]));\n",
      "    answer[b:] = 0.0;\n",
      "  else:\n",
      "    # Planet does not cover center of star.\n",
      "    a, b = numpy.searchsorted(r, [z-p, z+p], side=\"right\");\n",
      "    answer[:a] = 0.0;\n",
      "    answer[a:b] = numpy.arccos((r[a:b]*r[a:b]+z*z-p*p)/(2*z*r[a:b]));\n",
      "    answer[b:] = 0.0;\n",
      "  return answer;\n",
      "\n",
      "pyplot.plot(r, circleanglesorted(r, p, z), \"r-\");"
     ],
     "language": "python",
     "metadata": {},
     "outputs": []
    },
    {
     "cell_type": "code",
     "collapsed": false,
     "input": [
      "from timeit import timeit;\n",
      "\n",
      "n = 500;\n",
      "\n",
      "r = \", numpy; r = numpy.linspace(0.0, 1.0, 1000)\";\n",
      "arg = \"(r, 0.1, 0.5)\";\n",
      "\n",
      "time1 = timeit(stmt=\"toypython.circleangleloop\" + arg, setup=\"import toypython\" + r, number=n);\n",
      "time2 = timeit(stmt=\"toypython.circleanglemask\" + arg, setup=\"import toypython\" + r, number=n);\n",
      "time3 = timeit(stmt=\"toypython.circleanglesorted\" + arg, setup=\"import toypython\" + r, number=n);\n",
      "\n",
      "print(\"Python loop:   {0:5.3f} ms.\".format(1000*time1/n));\n",
      "print(\"Python mask:   {0:5.3f} ms.\".format(1000*time2/n));\n",
      "print(\"Python sorted: {0:5.3f} ms.\".format(1000*time3/n));"
     ],
     "language": "python",
     "metadata": {},
     "outputs": []
    },
    {
     "cell_type": "markdown",
     "metadata": {},
     "source": [
      "## C implementations with the numpy API"
     ]
    },
    {
     "cell_type": "markdown",
     "metadata": {},
     "source": [
      "### toyc.c\n",
      "\n",
      "    #include <math.h>\n",
      "\n",
      "    void circleangleloop(double *r, double p, double z, int n, double *answer) {\n",
      "      /* If the circle arc of radius r is disjoint from the circular disk \n",
      "         of radius p, then the angle is zero. */\n",
      "      int i;\n",
      "      double ri;\n",
      "      for(i=0; i<n; i++) {\n",
      "        ri = *(r+i);\n",
      "        // If the planet entirely covers the circle, the half central angle is pi.\n",
      "        if (ri <= p-z)\n",
      "          *(answer+i) = M_PI;\n",
      "        // If the triangle inequalities hold between z, r, and p, use law of cosines.\n",
      "        else if ((ri < p+z) && (ri > z-p))\n",
      "          *(answer+i) = acos((ri*ri+z*z-p*p)/(2*z*ri));\n",
      "        else\n",
      "          *(answer+i) = 0;\n",
      "      }\n",
      "      return;\n",
      "    }"
     ]
    },
    {
     "cell_type": "markdown",
     "metadata": {},
     "source": [
      "### toyc-wrapper.c\n",
      "\n",
      "    #include <Python.h>\n",
      "    #include <numpy/arrayobject.h>\n",
      "    #include \"toyc.h\"\n",
      "\n",
      "    /* Docstrings */\n",
      "    static char module_docstring[] = \"  This module is a fast C implementation of a toy problem.\";\n",
      "    static char circleangleloop_docstring[] = \n",
      "    \"  circleangleloop(r, p, z)\\n\"\n",
      "    \"  Calculate half central angle of the arc of circle of radius r\\n\"\n",
      "    \"  that is inside a circle of radius p with separation of centers z.\";\n",
      "\n",
      "    /* Function wrappers for external use */\n",
      "    static PyObject *circleangleloop_wrapper(PyObject*, PyObject*, PyObject*);\n",
      "\n",
      "    /* Module specification */\n",
      "    static PyMethodDef module_methods[] = {\n",
      "      {\"circleangleloop\", (PyCFunction)circleangleloop_wrapper, METH_VARARGS | METH_KEYWORDS, circleangleloop_docstring},\n",
      "      {NULL, NULL, 0, NULL}\n",
      "    };\n",
      "\n",
      "    /* Initialize the module */\n",
      "    PyMODINIT_FUNC inittoyc(void) {\n",
      "      PyObject *m = Py_InitModule3(\"toyc\", module_methods, module_docstring);\n",
      "      if (m == NULL)\n",
      "        return;\n",
      "      /* Load numpy functionality. */\n",
      "      import_array();\n",
      "    }\n",
      "\n",
      "    /* Wrapper function for circleangleloop. */\n",
      "    static PyObject *circleangleloop_wrapper(PyObject *self, PyObject *args, PyObject *kwds) {\n",
      "      /* Input arguments. */\n",
      "      double p, z;\n",
      "      PyObject *r_obj;\n",
      "\n",
      "      // Keywords.\n",
      "      static char *kwlist[] = {\"r\", \"p\", \"z\", NULL};\n",
      "\n",
      "      /* Parse the input tuple */\n",
      "      if (!PyArg_ParseTupleAndKeywords(args, kwds, \"Odd\", kwlist, &r_obj, &p, &z))\n",
      "        return NULL;\n",
      "\n",
      "      /* Interpret the input object as a numpy array. */\n",
      "      PyObject *r_array = PyArray_FROM_OTF(r_obj, NPY_DOUBLE, NPY_IN_ARRAY);\n",
      "\n",
      "      /* If that didn't work, or the resulting array does not have the correct\n",
      "       * number of dimensions or type, then abort. */\n",
      "      if (r_array == NULL || PyArray_NDIM(r_array) != 1 || PyArray_TYPE(r_array) != PyArray_DOUBLE) {\n",
      "        PyErr_SetString(PyExc_ValueError, \"r cannot be converted to a suitable array.\");\n",
      "        return NULL; \n",
      "      }\n",
      "\n",
      "      /* Read out dimensions and data pointers. */\n",
      "      int n = (int)PyArray_DIM(r_array, 0);\n",
      "      double *r_data = (double*)PyArray_DATA(r_array);\n",
      "\n",
      "      /* Create answer numpy array, let Python allocate memory.\n",
      "         Do not allocate memory manually and then use PyArray_FromDimsAndData! */\n",
      "      PyArrayObject *answer_array = (PyArrayObject*)PyArray_FromDims(1, &n, NPY_DOUBLE);\n",
      "\n",
      "      // Evaluate the model\n",
      "      circleangleloop(r_data, p, z, n, (double*)PyArray_DATA(answer_array));\n",
      "\n",
      "      /* Clean up. */\n",
      "      Py_DECREF(r_array);\n",
      "\n",
      "      // Return.\n",
      "      return PyArray_Return(answer_array);\n",
      "    }"
     ]
    },
    {
     "cell_type": "markdown",
     "metadata": {},
     "source": [
      "### toyc-setup.py\n",
      "\n",
      "    from distutils.core import setup, Extension;\n",
      "    import numpy.distutils.misc_util;\n",
      "\n",
      "    c_ext = Extension(\"toyc\", [\"toyc-wrapper.c\", \"toyc.c\"], extra_compile_args=['-Ofast']);\n",
      "\n",
      "    setup(ext_modules=[c_ext], include_dirs=numpy.distutils.misc_util.get_numpy_include_dirs());"
     ]
    },
    {
     "cell_type": "code",
     "collapsed": false,
     "input": [
      "from timeit import timeit;\n",
      "\n",
      "n = 500;\n",
      "\n",
      "r = \", numpy; r = numpy.linspace(0.0, 1.0, 1000)\";\n",
      "arg = \"(r, 0.1, 0.5)\";\n",
      "\n",
      "time1 = timeit(stmt=\"toypython.circleangleloop\" + arg, setup=\"import toypython\" + r, number=n);\n",
      "time2 = timeit(stmt=\"toypython.circleanglemask\" + arg, setup=\"import toypython\" + r, number=n);\n",
      "time3 = timeit(stmt=\"toypython.circleanglesorted\" + arg, setup=\"import toypython\" + r, number=n);\n",
      "time4 = timeit(stmt=\"toycython.circleangleloop\" + arg, setup=\"import toycython\" + r, number=n);\n",
      "time5 = timeit(stmt=\"toycython.circleanglemask\" + arg, setup=\"import toycython\" + r, number=n);\n",
      "time6 = timeit(stmt=\"toycython.circleanglesorted\" + arg, setup=\"import toycython\" + r, number=n);\n",
      "time7 = timeit(stmt=\"toyc.circleangleloop\" + arg, setup=\"import toyc\" + r, number=n);\n",
      "time8 = timeit(stmt=\"toyc.circleanglesorted\" + arg, setup=\"import toyc\" + r, number=n);\n",
      "\n",
      "print(\"Python loop:   {0:5.3f} ms.\".format(1000*time1/n));\n",
      "print(\"Python mask:   {0:5.3f} ms.\".format(1000*time2/n));\n",
      "print(\"Python sorted: {0:5.3f} ms.\".format(1000*time3/n));\n",
      "print(\"Cython loop:   {0:5.3f} ms.\".format(1000*time4/n));\n",
      "print(\"Cython mask:   {0:5.3f} ms.\".format(1000*time5/n));\n",
      "print(\"Cython sorted: {0:5.3f} ms.\".format(1000*time6/n));\n",
      "print(\"C      loop:   {0:5.3f} ms.\".format(1000*time7/n));\n",
      "print(\"C      sorted: {0:5.3f} ms.\".format(1000*time8/n));\n"
     ],
     "language": "python",
     "metadata": {},
     "outputs": []
    },
    {
     "cell_type": "code",
     "collapsed": false,
     "input": [],
     "language": "python",
     "metadata": {},
     "outputs": []
    }
   ],
   "metadata": {}
  }
 ]
}
